{
 "cells": [
  {
   "cell_type": "code",
   "execution_count": 2,
   "metadata": {},
   "outputs": [],
   "source": [
    "#! /usr/bin/env python\n",
    "from __future__ import division\n",
    "import math\n",
    "from pyspark import SparkConf, SparkContext\n",
    "from pyspark.sql import SQLContext\n",
    "import pyspark.sql.functions as f\n",
    "from pyspark.sql.window import Window"
   ]
  },
  {
   "cell_type": "code",
   "execution_count": 4,
   "metadata": {},
   "outputs": [],
   "source": [
    "sc = SparkContext(conf=SparkConf().setAppName(\"MyApp\").setMaster(\"local[2]\"))"
   ]
  },
  {
   "cell_type": "code",
   "execution_count": 5,
   "metadata": {},
   "outputs": [],
   "source": [
    "TIME_DELTA = 421 # 7 minutes 1 second"
   ]
  },
  {
   "cell_type": "code",
   "execution_count": 6,
   "metadata": {},
   "outputs": [],
   "source": [
    "sql = SQLContext(sc)\n",
    "data = sql.read.parquet(\"/data/sample264\")"
   ]
  },
  {
   "cell_type": "code",
   "execution_count": 8,
   "metadata": {},
   "outputs": [],
   "source": [
    "pairs_per_user = data.alias('l').join(data.alias('r'), on='userId')\\\n",
    "        .where('r.trackId != l.trackId')\\\n",
    "        .select(f.col('userId').alias('id'),\n",
    "                f.col('l.trackId').alias('track1'),\n",
    "                f.col('r.trackId').alias('track2'),\n",
    "                f.col('l.timestamp').alias('timestamp1'),\n",
    "                f.col('r.timestamp').alias('timestamp2'))"
   ]
  },
  {
   "cell_type": "code",
   "execution_count": 9,
   "metadata": {},
   "outputs": [],
   "source": [
    "pairs_per_user = pairs_per_user.\\\n",
    "    withColumn('weight', f.when(\n",
    "        f.abs(f.col('timestamp1') - f.col('timestamp2')) < TIME_DELTA, 1)\\\n",
    "        .otherwise(0)\n",
    "    )"
   ]
  },
  {
   "cell_type": "code",
   "execution_count": 10,
   "metadata": {},
   "outputs": [],
   "source": [
    "aggregated_pairs = pairs_per_user.\\\n",
    "    select(f.col('track1'),\n",
    "           f.col('track2'),\n",
    "           f.col('weight')).\\\n",
    "    groupBy(f.col('track1'), f.col('track2')).\\\n",
    "    agg(f.sum(f.col('weight')).alias('weight'))"
   ]
  },
  {
   "cell_type": "code",
   "execution_count": 17,
   "metadata": {},
   "outputs": [],
   "source": [
    "window = Window.partitionBy('track1').orderBy(f.col('weight').desc())\n",
    "\n",
    "#For each track choose top 40 tracks ordered by weight similar to it\n",
    "top_40_tracks = aggregated_pairs.withColumn('rank_num', f.rank().over(window)).\\\n",
    "    where(f.col('rank_num') < 40).\\\n",
    "    drop('rank_num')\n",
    "    \n",
    "    \n",
    "#normalize weights of its edges \n",
    "#(divide the weight of each edge on a sum of weights of all edges)\n",
    "top_sum = top_40_tracks.\\\n",
    "    groupBy('track1').\\\n",
    "    agg(f.sum(f.col('weight')).alias('node_sum'))\n",
    "    \n",
    "normalized_tracks = top_40_tracks.join(top_sum, on='track1').\\\n",
    "    withColumn('norm_weight', f.col('weight')/f.col('node_sum')).\\\n",
    "    drop('node_sum', 'weight')"
   ]
  },
  {
   "cell_type": "code",
   "execution_count": null,
   "metadata": {},
   "outputs": [],
   "source": [
    "# Sort the resulting Data Frame in the descending order by the column norm_weight, \n",
    "# and then in the ascending order this time first by “id1”, then by “id2”. \n",
    "# Take top 40 rows, select only the columns “id1”, “id2”,\n",
    "# and print the columns “id1”, “id2” of the resulting dataframe.\n",
    "\n",
    "result = normalized_tracks.orderBy(\n",
    "    f.col('norm_weight').desc(),\n",
    "    f.col('track1').asc(),\n",
    "    f.col('track2').asc()).\\\n",
    "    select('track1', 'track2').\\\n",
    "    take(40)\n",
    "\n",
    "for row in result:\n",
    "    print(row[0], row[1], sep='\\t')"
   ]
  }
 ],
 "metadata": {
  "kernelspec": {
   "display_name": "Python 3",
   "language": "python",
   "name": "python3"
  },
  "language_info": {
   "codemirror_mode": {
    "name": "ipython",
    "version": 3
   },
   "file_extension": ".py",
   "mimetype": "text/x-python",
   "name": "python",
   "nbconvert_exporter": "python",
   "pygments_lexer": "ipython3",
   "version": "3.6.2"
  }
 },
 "nbformat": 4,
 "nbformat_minor": 2
}
